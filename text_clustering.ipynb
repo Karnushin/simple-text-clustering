{
 "cells": [
  {
   "cell_type": "code",
   "execution_count": 1,
   "metadata": {},
   "outputs": [],
   "source": [
    "import pandas as pd\n",
    "import numpy as np\n",
    "\n",
    "from sklearn.feature_extraction.text import TfidfVectorizer, CountVectorizer\n",
    "from sklearn.preprocessing import StandardScaler\n",
    "\n",
    "from nltk.corpus import stopwords\n",
    "from pymystem3 import Mystem\n",
    "\n",
    "from MulticoreTSNE import MulticoreTSNE as TSNE\n",
    "import umap\n",
    "from sklearn.decomposition import TruncatedSVD, PCA\n",
    "\n",
    "import seaborn as sns\n",
    "import matplotlib.pyplot as plt\n",
    "\n",
    "from sklearn.neighbors import NearestNeighbors\n",
    "from random import sample\n",
    "from numpy.random import uniform\n",
    "\n",
    "from tqdm.notebook import tqdm\n",
    "\n",
    "import warnings\n",
    "warnings.filterwarnings('ignore')"
   ]
  },
  {
   "cell_type": "code",
   "execution_count": 2,
   "metadata": {},
   "outputs": [],
   "source": [
    "sns.set()"
   ]
  },
  {
   "cell_type": "code",
   "execution_count": 3,
   "metadata": {},
   "outputs": [],
   "source": [
    "SEED = 42"
   ]
  },
  {
   "cell_type": "code",
   "execution_count": 4,
   "metadata": {},
   "outputs": [],
   "source": [
    "mystem = Mystem()\n",
    "russian_stopwords = stopwords.words(\"russian\")"
   ]
  },
  {
   "cell_type": "code",
   "execution_count": null,
   "metadata": {},
   "outputs": [],
   "source": [
    "df = pd.read_csv('data.csv')"
   ]
  },
  {
   "cell_type": "code",
   "execution_count": 39,
   "metadata": {},
   "outputs": [
    {
     "name": "stdout",
     "output_type": "stream",
     "text": [
      "(1920, 7)\n"
     ]
    },
    {
     "data": {
      "text/html": [
       "<div>\n",
       "<style scoped>\n",
       "    .dataframe tbody tr th:only-of-type {\n",
       "        vertical-align: middle;\n",
       "    }\n",
       "\n",
       "    .dataframe tbody tr th {\n",
       "        vertical-align: top;\n",
       "    }\n",
       "\n",
       "    .dataframe thead th {\n",
       "        text-align: right;\n",
       "    }\n",
       "</style>\n",
       "<table border=\"1\" class=\"dataframe\">\n",
       "  <thead>\n",
       "    <tr style=\"text-align: right;\">\n",
       "      <th></th>\n",
       "      <th>company_categories</th>\n",
       "      <th>company_features</th>\n",
       "      <th>company_links</th>\n",
       "      <th>company_name</th>\n",
       "      <th>company_url</th>\n",
       "      <th>phone_number</th>\n",
       "      <th>source</th>\n",
       "    </tr>\n",
       "  </thead>\n",
       "  <tbody>\n",
       "    <tr>\n",
       "      <th>0</th>\n",
       "      <td>Спецтехника и спецавтомобили;Услуги грузчиков;...</td>\n",
       "      <td>коммунальная техника</td>\n",
       "      <td>https://vk.com/pr.bratsk</td>\n",
       "      <td>Компания Персональное решение</td>\n",
       "      <td>NaN</td>\n",
       "      <td>73953274827</td>\n",
       "      <td>Yandex API</td>\n",
       "    </tr>\n",
       "    <tr>\n",
       "      <th>1</th>\n",
       "      <td>Агентство недвижимости</td>\n",
       "      <td>NaN</td>\n",
       "      <td>NaN</td>\n",
       "      <td>АН Индустриальное</td>\n",
       "      <td>NaN</td>\n",
       "      <td>79028351016</td>\n",
       "      <td>Yandex API</td>\n",
       "    </tr>\n",
       "  </tbody>\n",
       "</table>\n",
       "</div>"
      ],
      "text/plain": [
       "                                  company_categories      company_features  \\\n",
       "0  Спецтехника и спецавтомобили;Услуги грузчиков;...  коммунальная техника   \n",
       "1                             Агентство недвижимости                   NaN   \n",
       "\n",
       "              company_links                   company_name  company_url  \\\n",
       "0  https://vk.com/pr.bratsk  Компания Персональное решение          NaN   \n",
       "1                       NaN              АН Индустриальное          NaN   \n",
       "\n",
       "   phone_number      source  \n",
       "0   73953274827  Yandex API  \n",
       "1   79028351016  Yandex API  "
      ]
     },
     "execution_count": 39,
     "metadata": {},
     "output_type": "execute_result"
    }
   ],
   "source": [
    "print(df.shape)\n",
    "df.head(2)"
   ]
  },
  {
   "cell_type": "markdown",
   "metadata": {},
   "source": [
    "## Data preprocessing"
   ]
  },
  {
   "cell_type": "code",
   "execution_count": 40,
   "metadata": {},
   "outputs": [],
   "source": [
    "def preprocess_text(series_column):\n",
    "    ''' Text preprocessing\n",
    "    \n",
    "    To lower case, keep digits and letters only, lemmatization, throw out stop words and words with length less 3\n",
    "    \n",
    "    Parameters:\n",
    "        series_column - pandas.series\n",
    "        \n",
    "    Return:\n",
    "        preprocessed series\n",
    "    '''\n",
    "    series_column = series_column.str.lower()\n",
    "    series_column = series_column.replace(r'[^абвгдеёжзийклмнопрстуфхцчшщъыьэюя]', ' ', regex = True)\n",
    "    \n",
    "    for i, text in series_column.iteritems():\n",
    "         #tokens = mystem.lemmatize(text)\n",
    "        tokens = text.split(' ')\n",
    "        tokens = [token for token in tokens if token not in [' ', '\\n'] \n",
    "                                              and token not in russian_stopwords\n",
    "                                              and len(token) > 2]\n",
    "        \n",
    "        text = ' '.join(tokens)\n",
    "        text = text.replace('o', 'о')\n",
    "        text = text.replace('ё', 'е')\n",
    "        series_column[i] = text\n",
    "    \n",
    "    return series_column\n",
    "\n",
    "def hopkins_statistics(X):\n",
    "    '''Calculate hopkins statistics to check cluster stucture in data\n",
    "    \n",
    "    Parameters:\n",
    "        X - numpy matrix\n",
    "        \n",
    "    Return:\n",
    "        statistics\n",
    "        \n",
    "    Note:\n",
    "        Estimation the clusterability of a dataset. A score between 0 and 1, a score around 0.5 express\n",
    "        no clusterability and a score tending to 0 express a high cluster tendency\n",
    "    '''\n",
    "    n, d = X.shape[0], X.shape[1]\n",
    "    m = int(0.1 * n) # heuristic from article\n",
    "    \n",
    "    nbrs = NearestNeighbors(n_neighbors=1).fit(X)\n",
    " \n",
    "    rand_X = sample(range(n), m)\n",
    " \n",
    "    ujd = []\n",
    "    wjd = []\n",
    "    for j in range(m):\n",
    "        u_dist, _ = nbrs.kneighbors(uniform(np.amin(X,axis=0), np.amax(X,axis=0), d).reshape(1, -1)\n",
    "                                    , 2, return_distance=True)\n",
    "        ujd.append(u_dist[0][1])\n",
    "        \n",
    "        w_dist, _ = nbrs.kneighbors(X[rand_X[j]].reshape(1, -1), 2, return_distance=True)\n",
    "        wjd.append(w_dist[0][1])\n",
    " \n",
    "    H = sum(wjd) / (sum(ujd) + sum(wjd))\n",
    "    \n",
    "    return H"
   ]
  },
  {
   "cell_type": "code",
   "execution_count": 41,
   "metadata": {},
   "outputs": [
    {
     "data": {
      "text/plain": [
       "array(['Yandex API'], dtype=object)"
      ]
     },
     "execution_count": 41,
     "metadata": {},
     "output_type": "execute_result"
    }
   ],
   "source": [
    "df['source'].unique()"
   ]
  },
  {
   "cell_type": "code",
   "execution_count": 42,
   "metadata": {},
   "outputs": [
    {
     "data": {
      "text/plain": [
       "1429"
      ]
     },
     "execution_count": 42,
     "metadata": {},
     "output_type": "execute_result"
    }
   ],
   "source": [
    "#I's said that it's needed to just cluster without keep attention info about phone's numbers\n",
    "#so i don't use the fact unique numbers less than all numbers in the dataset\n",
    "df['phone_number'].unique().shape[0]"
   ]
  },
  {
   "cell_type": "code",
   "execution_count": 43,
   "metadata": {},
   "outputs": [
    {
     "data": {
      "text/plain": [
       "company_categories       0\n",
       "company_features       978\n",
       "company_links         1123\n",
       "company_name             0\n",
       "company_url           1920\n",
       "phone_number             0\n",
       "source                   0\n",
       "dtype: int64"
      ]
     },
     "execution_count": 43,
     "metadata": {},
     "output_type": "execute_result"
    }
   ],
   "source": [
    "df.isna().sum()"
   ]
  },
  {
   "cell_type": "code",
   "execution_count": 44,
   "metadata": {},
   "outputs": [],
   "source": [
    "#drop useless\n",
    "df = df.drop(['source', 'company_url', 'company_links'], axis=1)"
   ]
  },
  {
   "cell_type": "code",
   "execution_count": 45,
   "metadata": {},
   "outputs": [],
   "source": [
    "#change nan for convenient work\n",
    "df = df.replace(np.nan, '', regex=True)"
   ]
  },
  {
   "cell_type": "code",
   "execution_count": 46,
   "metadata": {},
   "outputs": [],
   "source": [
    "df['company_categories'] = preprocess_text(df['company_categories'])\n",
    "df['company_features'] = preprocess_text(df['company_features'])\n",
    "df['company_name'] = preprocess_text(df['company_name'])"
   ]
  },
  {
   "cell_type": "code",
   "execution_count": 47,
   "metadata": {},
   "outputs": [],
   "source": [
    "#concat main text\n",
    "df['cat_feats'] = df['company_categories'] + ' ' + df['company_features']\n",
    "df['cat_feats_name'] = df['company_categories'] + ' ' + df['company_features'] + ' ' + df['company_name']"
   ]
  },
  {
   "cell_type": "code",
   "execution_count": 48,
   "metadata": {},
   "outputs": [
    {
     "data": {
      "text/html": [
       "<div>\n",
       "<style scoped>\n",
       "    .dataframe tbody tr th:only-of-type {\n",
       "        vertical-align: middle;\n",
       "    }\n",
       "\n",
       "    .dataframe tbody tr th {\n",
       "        vertical-align: top;\n",
       "    }\n",
       "\n",
       "    .dataframe thead th {\n",
       "        text-align: right;\n",
       "    }\n",
       "</style>\n",
       "<table border=\"1\" class=\"dataframe\">\n",
       "  <thead>\n",
       "    <tr style=\"text-align: right;\">\n",
       "      <th></th>\n",
       "      <th>company_categories</th>\n",
       "      <th>company_features</th>\n",
       "      <th>company_name</th>\n",
       "      <th>phone_number</th>\n",
       "      <th>cat_feats</th>\n",
       "      <th>cat_feats_name</th>\n",
       "    </tr>\n",
       "  </thead>\n",
       "  <tbody>\n",
       "    <tr>\n",
       "      <th>0</th>\n",
       "      <td>спецтехника спецавтомобили услуги грузчиков пе...</td>\n",
       "      <td>коммунальная техника</td>\n",
       "      <td>компания персональное решение</td>\n",
       "      <td>73953274827</td>\n",
       "      <td>спецтехника спецавтомобили услуги грузчиков пе...</td>\n",
       "      <td>спецтехника спецавтомобили услуги грузчиков пе...</td>\n",
       "    </tr>\n",
       "    <tr>\n",
       "      <th>1</th>\n",
       "      <td>агентство недвижимости</td>\n",
       "      <td></td>\n",
       "      <td>индустриальное</td>\n",
       "      <td>79028351016</td>\n",
       "      <td>агентство недвижимости</td>\n",
       "      <td>агентство недвижимости  индустриальное</td>\n",
       "    </tr>\n",
       "    <tr>\n",
       "      <th>2</th>\n",
       "      <td>стоматологическая поликлиника стоматологическа...</td>\n",
       "      <td>детская услуги</td>\n",
       "      <td>стоматология жемчужины</td>\n",
       "      <td>79120189455</td>\n",
       "      <td>стоматологическая поликлиника стоматологическа...</td>\n",
       "      <td>стоматологическая поликлиника стоматологическа...</td>\n",
       "    </tr>\n",
       "    <tr>\n",
       "      <th>3</th>\n",
       "      <td>аптека</td>\n",
       "      <td>оплата картой</td>\n",
       "      <td>аптека бережливых</td>\n",
       "      <td>78124426652</td>\n",
       "      <td>аптека оплата картой</td>\n",
       "      <td>аптека оплата картой аптека бережливых</td>\n",
       "    </tr>\n",
       "    <tr>\n",
       "      <th>4</th>\n",
       "      <td>регистрационная палата министерства ведомства ...</td>\n",
       "      <td></td>\n",
       "      <td>межрайонный отдел перми управления росреестра ...</td>\n",
       "      <td>73422836588</td>\n",
       "      <td>регистрационная палата министерства ведомства ...</td>\n",
       "      <td>регистрационная палата министерства ведомства ...</td>\n",
       "    </tr>\n",
       "  </tbody>\n",
       "</table>\n",
       "</div>"
      ],
      "text/plain": [
       "                                  company_categories      company_features  \\\n",
       "0  спецтехника спецавтомобили услуги грузчиков пе...  коммунальная техника   \n",
       "1                             агентство недвижимости                         \n",
       "2  стоматологическая поликлиника стоматологическа...        детская услуги   \n",
       "3                                             аптека         оплата картой   \n",
       "4  регистрационная палата министерства ведомства ...                         \n",
       "\n",
       "                                        company_name  phone_number  \\\n",
       "0                      компания персональное решение   73953274827   \n",
       "1                                     индустриальное   79028351016   \n",
       "2                             стоматология жемчужины   79120189455   \n",
       "3                                  аптека бережливых   78124426652   \n",
       "4  межрайонный отдел перми управления росреестра ...   73422836588   \n",
       "\n",
       "                                           cat_feats  \\\n",
       "0  спецтехника спецавтомобили услуги грузчиков пе...   \n",
       "1                            агентство недвижимости    \n",
       "2  стоматологическая поликлиника стоматологическа...   \n",
       "3                               аптека оплата картой   \n",
       "4  регистрационная палата министерства ведомства ...   \n",
       "\n",
       "                                      cat_feats_name  \n",
       "0  спецтехника спецавтомобили услуги грузчиков пе...  \n",
       "1             агентство недвижимости  индустриальное  \n",
       "2  стоматологическая поликлиника стоматологическа...  \n",
       "3             аптека оплата картой аптека бережливых  \n",
       "4  регистрационная палата министерства ведомства ...  "
      ]
     },
     "execution_count": 48,
     "metadata": {},
     "output_type": "execute_result"
    }
   ],
   "source": [
    "df.head(5)"
   ]
  },
  {
   "cell_type": "code",
   "execution_count": 49,
   "metadata": {},
   "outputs": [
    {
     "data": {
      "text/plain": [
       "(3110,)"
      ]
     },
     "execution_count": 49,
     "metadata": {},
     "output_type": "execute_result"
    }
   ],
   "source": [
    "#check count unique words in dataset\n",
    "s = ''\n",
    "for i, x in df['cat_feats_name'].iteritems():\n",
    "    s += x + ' '\n",
    "np.unique(s.split()).shape"
   ]
  },
  {
   "cell_type": "code",
   "execution_count": 51,
   "metadata": {},
   "outputs": [
    {
     "data": {
      "text/plain": [
       "True"
      ]
     },
     "execution_count": 51,
     "metadata": {},
     "output_type": "execute_result"
    }
   ],
   "source": [
    "'денежные' in s"
   ]
  },
  {
   "cell_type": "markdown",
   "metadata": {},
   "source": [
    "**Encoding**"
   ]
  },
  {
   "cell_type": "code",
   "execution_count": 24,
   "metadata": {},
   "outputs": [],
   "source": [
    "from gensim.models import Word2Vec"
   ]
  },
  {
   "cell_type": "code",
   "execution_count": 86,
   "metadata": {},
   "outputs": [],
   "source": [
    "#vectorizer = TfidfVectorizer(max_df=0.95, min_df=0.05, ngram_range=(1, 1))\n",
    "vectorizer = CountVectorizer(max_df=0.95, min_df=0.05, ngram_range=(1, 2))\n",
    "matrix = vectorizer.fit_transform(df['cat_feats_name'])\n",
    "matrix = matrix.toarray()"
   ]
  },
  {
   "cell_type": "code",
   "execution_count": 87,
   "metadata": {},
   "outputs": [
    {
     "data": {
      "image/png": "[encoded data removed]",
      "text/plain": [
       "<Figure size 432x288 with 1 Axes>"
      ]
     },
     "metadata": {},
     "output_type": "display_data"
    }
   ],
   "source": [
    "plot_embeddings(matrix.copy(), 'tsne', 'cosine')"
   ]
  },
  {
   "cell_type": "markdown",
   "metadata": {},
   "source": [
    "**Check clustering structure**"
   ]
  },
  {
   "cell_type": "code",
   "execution_count": 88,
   "metadata": {},
   "outputs": [
    {
     "name": "stdout",
     "output_type": "stream",
     "text": [
      "Hopkins statisctics scaled matrix: 0.03156308730394783\n",
      "Hopkins statisctics: 0.01505973487911372\n"
     ]
    }
   ],
   "source": [
    "print('Hopkins statisctics scaled matrix:', hopkins_statistics(matrix_sc))\n",
    "print('Hopkins statisctics:', hopkins_statistics(matrix))"
   ]
  },
  {
   "cell_type": "markdown",
   "metadata": {},
   "source": [
    "Seems there're some cluster structure in data, try to visualize it\n",
    "\n",
    "**Visualization of embeddings of data**"
   ]
  },
  {
   "cell_type": "code",
   "execution_count": 54,
   "metadata": {},
   "outputs": [],
   "source": [
    "def plot_embeddings(matrix, method='tsne', metric='euclidean', c=None):\n",
    "    ''' Plot graphics based on embeddings\n",
    "    \n",
    "    Parameters:\n",
    "        matrix - numpy array\n",
    "        method - 'tsne', 'umap' or 'pca'. Used to print results\n",
    "        metric - metric is used to create embeddings\n",
    "    '''\n",
    "    if method == 'tsne':\n",
    "        plt.figure()\n",
    "        embeddings = TSNE(metric=metric, n_jobs=-1).fit_transform(matrix)\n",
    "        plt.scatter(embeddings[:, 0], embeddings[:, 1], c=c, s=3, label=f'{method}, {metric}')\n",
    "        plt.legend(loc='best', fontsize='large')\n",
    "        \n",
    "    elif method == 'umap':\n",
    "        for i in tqdm([2, 5, 10, 20, 50, 100, 200]):\n",
    "            plt.figure()\n",
    "            embeddings = umap.UMAP(n_neighbors=i, random_state=SEED, metric=metric, n_epochs=500)\\\n",
    "                                    .fit_transform(matrix)\n",
    "            plt.scatter(embeddings[:, 0], embeddings[:, 1], c=c, s=0.5, label=f'{method}, {metric}, {i}')\n",
    "            plt.legend(loc='best', fontsize='large')\n",
    "            \n",
    "    elif method == 'pca':\n",
    "        plt.figure()\n",
    "        embeddings = PCA(n_components=2, random_state=SEED).fit_transform(matrix) \n",
    "        plt.scatter(embeddings[:, 0], embeddings[:, 1], c=c, s=0.5, label=f'{method}')\n",
    "        plt.legend(loc='best', fontsize='large')\n",
    "\n",
    "    plt.show()        "
   ]
  },
  {
   "cell_type": "markdown",
   "metadata": {},
   "source": [
    "## Modeling"
   ]
  },
  {
   "cell_type": "markdown",
   "metadata": {},
   "source": [
    "Since it's text clustering I'll use cosine metrics if possible"
   ]
  },
  {
   "cell_type": "code",
   "execution_count": 55,
   "metadata": {},
   "outputs": [],
   "source": [
    "from sklearn.cluster import AgglomerativeClustering, KMeans, DBSCAN\n",
    "from scipy.cluster.hierarchy import dendrogram\n",
    "\n",
    "from sklearn.metrics import silhouette_score, davies_bouldin_score"
   ]
  },
  {
   "cell_type": "code",
   "execution_count": 29,
   "metadata": {},
   "outputs": [],
   "source": [
    "def plot_dendrogram(model, **kwargs):\n",
    "    '''Create linkage matrix and then plot the dendrogram\n",
    "    create the counts of samples under each node\n",
    "    '''\n",
    "    \n",
    "    counts = np.zeros(model.children_.shape[0])\n",
    "    n_samples = len(model.labels_)\n",
    "    for i, merge in enumerate(model.children_):\n",
    "        current_count = 0\n",
    "        for child_idx in merge:\n",
    "            if child_idx < n_samples:\n",
    "                current_count += 1  # leaf node\n",
    "            else:\n",
    "                current_count += counts[child_idx - n_samples]\n",
    "        counts[i] = current_count\n",
    "\n",
    "    linkage_matrix = np.column_stack([model.children_, model.distances_, counts]).astype(float)\n",
    "\n",
    "    # Plot the corresponding dendrogram\n",
    "    dendrogram(linkage_matrix, **kwargs)"
   ]
  },
  {
   "cell_type": "code",
   "execution_count": 35,
   "metadata": {},
   "outputs": [],
   "source": [
    "agclust = AgglomerativeClustering(None, distance_threshold=1).fit(matrix)"
   ]
  },
  {
   "cell_type": "code",
   "execution_count": 36,
   "metadata": {},
   "outputs": [
    {
     "data": {
      "image/png": "[encoded data removed]",
      "text/plain": [
       "<Figure size 1440x1440 with 1 Axes>"
      ]
     },
     "metadata": {},
     "output_type": "display_data"
    }
   ],
   "source": [
    "plt.figure(figsize=(20, 20))\n",
    "plot_dendrogram(agclust)"
   ]
  },
  {
   "cell_type": "markdown",
   "metadata": {},
   "source": [
    "**Kmeans**"
   ]
  },
  {
   "cell_type": "code",
   "execution_count": 37,
   "metadata": {},
   "outputs": [
    {
     "data": {
      "application/vnd.jupyter.widget-view+json": {
       "model_id": "005d85da012d4f408bb2133fbda73043",
       "version_major": 2,
       "version_minor": 0
      },
      "text/plain": [
       "HBox(children=(FloatProgress(value=0.0, max=10.0), HTML(value='')))"
      ]
     },
     "metadata": {},
     "output_type": "display_data"
    },
    {
     "name": "stdout",
     "output_type": "stream",
     "text": [
      "\n"
     ]
    }
   ],
   "source": [
    "kmeans_db = {}\n",
    "kmeans_silh = {}\n",
    "range_clusters = [3, 5, 8, 15, 20, 30, 50, 75, 100, 200]\n",
    "for n_clusters in tqdm(range_clusters):\n",
    "    clusterer = KMeans(n_clusters=n_clusters, n_jobs=-1, random_state=SEED)\n",
    "    preds_kmeans = clusterer.fit_predict(matrix)\n",
    "    #centers = clusterer.cluster_centers_\n",
    "\n",
    "    kmeans_silh[n_clusters] = silhouette_score(matrix, preds_kmeans, metric='cosine')\n",
    "    kmeans_db[n_clusters] = davies_bouldin_score(matrix, preds_kmeans)"
   ]
  },
  {
   "cell_type": "code",
   "execution_count": 38,
   "metadata": {},
   "outputs": [
    {
     "name": "stdout",
     "output_type": "stream",
     "text": [
      "[(200, 0.3949676741853159), (100, 0.30880559644183647)]\n",
      "[(200, 1.5326199053913763), (100, 1.7785661561591721)]\n"
     ]
    }
   ],
   "source": [
    "print(sorted(kmeans_silh.items(), key=lambda x: x[1], reverse=True)[:2])\n",
    "print(sorted(kmeans_db.items(), key=lambda x: x[1], reverse=False)[:2])"
   ]
  },
  {
   "cell_type": "code",
   "execution_count": 89,
   "metadata": {},
   "outputs": [
    {
     "data": {
      "image/png": "[encoded data removed]",
      "text/plain": [
       "<Figure size 432x288 with 1 Axes>"
      ]
     },
     "metadata": {},
     "output_type": "display_data"
    }
   ],
   "source": [
    "preds_kmeans = KMeans(n_clusters=20, n_jobs=-1, random_state=SEED).fit_predict(matrix)\n",
    "plot_embeddings(matrix.copy(), 'tsne', 'cosine', c=preds_kmeans)"
   ]
  },
  {
   "cell_type": "code",
   "execution_count": 98,
   "metadata": {},
   "outputs": [
    {
     "data": {
      "text/plain": [
       "((776,), (1920,))"
      ]
     },
     "execution_count": 98,
     "metadata": {},
     "output_type": "execute_result"
    }
   ],
   "source": [
    "preds_kmeans[preds_kmeans==3].shape, preds_kmeans.shape"
   ]
  },
  {
   "cell_type": "code",
   "execution_count": 90,
   "metadata": {},
   "outputs": [
    {
     "data": {
      "text/plain": [
       "0.2086934072859685"
      ]
     },
     "execution_count": 90,
     "metadata": {},
     "output_type": "execute_result"
    }
   ],
   "source": [
    "silhouette_score(matrix, preds_kmeans, metric='cosine')"
   ]
  },
  {
   "cell_type": "code",
   "execution_count": 99,
   "metadata": {},
   "outputs": [],
   "source": [
    "df['preds'] = preds_kmeans"
   ]
  },
  {
   "cell_type": "code",
   "execution_count": 100,
   "metadata": {},
   "outputs": [
    {
     "data": {
      "text/html": [
       "<div>\n",
       "<style scoped>\n",
       "    .dataframe tbody tr th:only-of-type {\n",
       "        vertical-align: middle;\n",
       "    }\n",
       "\n",
       "    .dataframe tbody tr th {\n",
       "        vertical-align: top;\n",
       "    }\n",
       "\n",
       "    .dataframe thead th {\n",
       "        text-align: right;\n",
       "    }\n",
       "</style>\n",
       "<table border=\"1\" class=\"dataframe\">\n",
       "  <thead>\n",
       "    <tr style=\"text-align: right;\">\n",
       "      <th></th>\n",
       "      <th>company_categories</th>\n",
       "      <th>company_features</th>\n",
       "      <th>company_name</th>\n",
       "      <th>phone_number</th>\n",
       "      <th>cat_feats</th>\n",
       "      <th>cat_feats_name</th>\n",
       "      <th>preds</th>\n",
       "    </tr>\n",
       "  </thead>\n",
       "  <tbody>\n",
       "    <tr>\n",
       "      <th>1</th>\n",
       "      <td>агентство недвижимости</td>\n",
       "      <td></td>\n",
       "      <td>индустриальное</td>\n",
       "      <td>79028351016</td>\n",
       "      <td>агентство недвижимости</td>\n",
       "      <td>агентство недвижимости  индустриальное</td>\n",
       "      <td>3</td>\n",
       "    </tr>\n",
       "    <tr>\n",
       "      <th>4</th>\n",
       "      <td>регистрационная палата министерства ведомства ...</td>\n",
       "      <td></td>\n",
       "      <td>межрайонный отдел перми управления росреестра ...</td>\n",
       "      <td>73422836588</td>\n",
       "      <td>регистрационная палата министерства ведомства ...</td>\n",
       "      <td>регистрационная палата министерства ведомства ...</td>\n",
       "      <td>3</td>\n",
       "    </tr>\n",
       "    <tr>\n",
       "      <th>5</th>\n",
       "      <td>такси</td>\n",
       "      <td></td>\n",
       "      <td>новое такси</td>\n",
       "      <td>73953453000</td>\n",
       "      <td>такси</td>\n",
       "      <td>такси  новое такси</td>\n",
       "      <td>3</td>\n",
       "    </tr>\n",
       "    <tr>\n",
       "      <th>8</th>\n",
       "      <td>электротехническая продукция кабель провод све...</td>\n",
       "      <td></td>\n",
       "      <td>электромир</td>\n",
       "      <td>73512402001</td>\n",
       "      <td>электротехническая продукция кабель провод све...</td>\n",
       "      <td>электротехническая продукция кабель провод све...</td>\n",
       "      <td>3</td>\n",
       "    </tr>\n",
       "    <tr>\n",
       "      <th>13</th>\n",
       "      <td>пенсионный фонд</td>\n",
       "      <td></td>\n",
       "      <td>пенсионный фонд</td>\n",
       "      <td>73512822828</td>\n",
       "      <td>пенсионный фонд</td>\n",
       "      <td>пенсионный фонд  пенсионный фонд</td>\n",
       "      <td>3</td>\n",
       "    </tr>\n",
       "    <tr>\n",
       "      <th>...</th>\n",
       "      <td>...</td>\n",
       "      <td>...</td>\n",
       "      <td>...</td>\n",
       "      <td>...</td>\n",
       "      <td>...</td>\n",
       "      <td>...</td>\n",
       "      <td>...</td>\n",
       "    </tr>\n",
       "    <tr>\n",
       "      <th>1911</th>\n",
       "      <td>интернет провайдер телефония кабельное телевид...</td>\n",
       "      <td>технология сервисы услуги интернет</td>\n",
       "      <td>игра сервис</td>\n",
       "      <td>73912913913</td>\n",
       "      <td>интернет провайдер телефония кабельное телевид...</td>\n",
       "      <td>интернет провайдер телефония кабельное телевид...</td>\n",
       "      <td>3</td>\n",
       "    </tr>\n",
       "    <tr>\n",
       "      <th>1912</th>\n",
       "      <td>интернет провайдер телефония кабельное телевид...</td>\n",
       "      <td>технология сервисы услуги интернет</td>\n",
       "      <td>игра сервис</td>\n",
       "      <td>73912913913</td>\n",
       "      <td>интернет провайдер телефония кабельное телевид...</td>\n",
       "      <td>интернет провайдер телефония кабельное телевид...</td>\n",
       "      <td>3</td>\n",
       "    </tr>\n",
       "    <tr>\n",
       "      <th>1913</th>\n",
       "      <td>интернет провайдер телефония интернет маркетин...</td>\n",
       "      <td>технология сервисы услуги интернет</td>\n",
       "      <td>игра сервис</td>\n",
       "      <td>73912913913</td>\n",
       "      <td>интернет провайдер телефония интернет маркетин...</td>\n",
       "      <td>интернет провайдер телефония интернет маркетин...</td>\n",
       "      <td>3</td>\n",
       "    </tr>\n",
       "    <tr>\n",
       "      <th>1914</th>\n",
       "      <td>автобусные междугородные перевозки управление ...</td>\n",
       "      <td></td>\n",
       "      <td>пассажиртур</td>\n",
       "      <td>78313093939</td>\n",
       "      <td>автобусные междугородные перевозки управление ...</td>\n",
       "      <td>автобусные междугородные перевозки управление ...</td>\n",
       "      <td>3</td>\n",
       "    </tr>\n",
       "    <tr>\n",
       "      <th>1919</th>\n",
       "      <td>кондитерские изделия оптом мука крупы складски...</td>\n",
       "      <td></td>\n",
       "      <td>юста</td>\n",
       "      <td>78126220223</td>\n",
       "      <td>кондитерские изделия оптом мука крупы складски...</td>\n",
       "      <td>кондитерские изделия оптом мука крупы складски...</td>\n",
       "      <td>3</td>\n",
       "    </tr>\n",
       "  </tbody>\n",
       "</table>\n",
       "<p>776 rows × 7 columns</p>\n",
       "</div>"
      ],
      "text/plain": [
       "                                     company_categories  \\\n",
       "1                                агентство недвижимости   \n",
       "4     регистрационная палата министерства ведомства ...   \n",
       "5                                                 такси   \n",
       "8     электротехническая продукция кабель провод све...   \n",
       "13                                      пенсионный фонд   \n",
       "...                                                 ...   \n",
       "1911  интернет провайдер телефония кабельное телевид...   \n",
       "1912  интернет провайдер телефония кабельное телевид...   \n",
       "1913  интернет провайдер телефония интернет маркетин...   \n",
       "1914  автобусные междугородные перевозки управление ...   \n",
       "1919  кондитерские изделия оптом мука крупы складски...   \n",
       "\n",
       "                        company_features  \\\n",
       "1                                          \n",
       "4                                          \n",
       "5                                          \n",
       "8                                          \n",
       "13                                         \n",
       "...                                  ...   \n",
       "1911  технология сервисы услуги интернет   \n",
       "1912  технология сервисы услуги интернет   \n",
       "1913  технология сервисы услуги интернет   \n",
       "1914                                       \n",
       "1919                                       \n",
       "\n",
       "                                           company_name  phone_number  \\\n",
       "1                                        индустриальное   79028351016   \n",
       "4     межрайонный отдел перми управления росреестра ...   73422836588   \n",
       "5                                           новое такси   73953453000   \n",
       "8                                            электромир   73512402001   \n",
       "13                                      пенсионный фонд   73512822828   \n",
       "...                                                 ...           ...   \n",
       "1911                                        игра сервис   73912913913   \n",
       "1912                                        игра сервис   73912913913   \n",
       "1913                                        игра сервис   73912913913   \n",
       "1914                                        пассажиртур   78313093939   \n",
       "1919                                               юста   78126220223   \n",
       "\n",
       "                                              cat_feats  \\\n",
       "1                               агентство недвижимости    \n",
       "4     регистрационная палата министерства ведомства ...   \n",
       "5                                                такси    \n",
       "8     электротехническая продукция кабель провод све...   \n",
       "13                                     пенсионный фонд    \n",
       "...                                                 ...   \n",
       "1911  интернет провайдер телефония кабельное телевид...   \n",
       "1912  интернет провайдер телефония кабельное телевид...   \n",
       "1913  интернет провайдер телефония интернет маркетин...   \n",
       "1914  автобусные междугородные перевозки управление ...   \n",
       "1919  кондитерские изделия оптом мука крупы складски...   \n",
       "\n",
       "                                         cat_feats_name  preds  \n",
       "1                агентство недвижимости  индустриальное      3  \n",
       "4     регистрационная палата министерства ведомства ...      3  \n",
       "5                                    такси  новое такси      3  \n",
       "8     электротехническая продукция кабель провод све...      3  \n",
       "13                     пенсионный фонд  пенсионный фонд      3  \n",
       "...                                                 ...    ...  \n",
       "1911  интернет провайдер телефония кабельное телевид...      3  \n",
       "1912  интернет провайдер телефония кабельное телевид...      3  \n",
       "1913  интернет провайдер телефония интернет маркетин...      3  \n",
       "1914  автобусные междугородные перевозки управление ...      3  \n",
       "1919  кондитерские изделия оптом мука крупы складски...      3  \n",
       "\n",
       "[776 rows x 7 columns]"
      ]
     },
     "execution_count": 100,
     "metadata": {},
     "output_type": "execute_result"
    }
   ],
   "source": [
    "df[df['preds'] == 3]"
   ]
  },
  {
   "cell_type": "markdown",
   "metadata": {},
   "source": [
    "**DBSCAN**"
   ]
  },
  {
   "cell_type": "code",
   "execution_count": 101,
   "metadata": {},
   "outputs": [
    {
     "data": {
      "application/vnd.jupyter.widget-view+json": {
       "model_id": "326da4d55abc48ac9e07929f8036b469",
       "version_major": 2,
       "version_minor": 0
      },
      "text/plain": [
       "HBox(children=(FloatProgress(value=0.0, max=13.0), HTML(value='')))"
      ]
     },
     "metadata": {},
     "output_type": "display_data"
    },
    {
     "name": "stdout",
     "output_type": "stream",
     "text": [
      "\n"
     ]
    }
   ],
   "source": [
    "dbscan_silh = {}\n",
    "dbscan_db = {}\n",
    "for eps in tqdm([0.01, 0.05, 0.15, 0.2, 0.225, 0.25, 0.275, 0.3, 0.33, 0.37, 0.4, 0.45, 0.5]):\n",
    "    for min_samples in [3, 4, 5, 6, 8, 10, 13, 15]:\n",
    "        clusterer = DBSCAN(eps=eps, min_samples=min_samples, metric='cosine', n_jobs=-1)\n",
    "        preds = clusterer.fit_predict(matrix)\n",
    "        dbscan_db[str(eps)+'_'+str(min_samples)] = davies_bouldin_score(matrix, preds)\n",
    "        dbscan_silh[str(eps)+'_'+str(min_samples)] = silhouette_score(matrix, preds, metric='cosine')"
   ]
  },
  {
   "cell_type": "code",
   "execution_count": 102,
   "metadata": {},
   "outputs": [
    {
     "name": "stdout",
     "output_type": "stream",
     "text": [
      "[('0.05_3', 0.4684108393477469), ('0.05_4', 0.4288077671585836)]\n",
      "[('0.01_3', 0.6588563548427462), ('0.05_3', 0.6631555064901633)]\n"
     ]
    }
   ],
   "source": [
    "print(sorted(dbscan_silh.items(), key=lambda x: x[1], reverse=True)[:2])\n",
    "print(sorted(dbscan_db.items(), key=lambda x: x[1], reverse=False)[:2])"
   ]
  },
  {
   "cell_type": "code",
   "execution_count": 103,
   "metadata": {},
   "outputs": [
    {
     "data": {
      "text/plain": [
       "2.4381751714213076"
      ]
     },
     "execution_count": 103,
     "metadata": {},
     "output_type": "execute_result"
    }
   ],
   "source": [
    "dbscan_db['0.33_3']"
   ]
  },
  {
   "cell_type": "code",
   "execution_count": 109,
   "metadata": {},
   "outputs": [
    {
     "name": "stdout",
     "output_type": "stream",
     "text": [
      "silhouette dbscan: 0.4450895933085863\n"
     ]
    }
   ],
   "source": [
    "#best dbscan\n",
    "dbscan = DBSCAN(eps=0.03, min_samples=3, metric='cosine', n_jobs=-1)\n",
    "preds_dbscan = dbscan.fit_predict(matrix)\n",
    "print(f\"silhouette dbscan: {silhouette_score(matrix, preds_dbscan, metric='cosine')}\")"
   ]
  },
  {
   "cell_type": "code",
   "execution_count": 110,
   "metadata": {},
   "outputs": [
    {
     "data": {
      "image/png": "[encoded data removed]",
      "text/plain": [
       "<Figure size 432x288 with 1 Axes>"
      ]
     },
     "metadata": {},
     "output_type": "display_data"
    }
   ],
   "source": [
    "plot_embeddings(matrix.copy(), 'tsne', 'cosine', c=preds_dbscan)"
   ]
  },
  {
   "cell_type": "code",
   "execution_count": 111,
   "metadata": {},
   "outputs": [
    {
     "data": {
      "text/plain": [
       "75"
      ]
     },
     "execution_count": 111,
     "metadata": {},
     "output_type": "execute_result"
    }
   ],
   "source": [
    "np.unique(preds_dbscan).shape[0]"
   ]
  },
  {
   "cell_type": "code",
   "execution_count": 106,
   "metadata": {},
   "outputs": [],
   "source": [
    "#check agglomerativeclustering with got number of clusters\n",
    "preds_agl = AgglomerativeClustering(np.unique(preds_dbscan).shape[0]).fit_predict(matrix)"
   ]
  },
  {
   "cell_type": "code",
   "execution_count": 107,
   "metadata": {},
   "outputs": [
    {
     "data": {
      "image/png": "[encoded data removed]",
      "text/plain": [
       "<Figure size 432x288 with 1 Axes>"
      ]
     },
     "metadata": {},
     "output_type": "display_data"
    }
   ],
   "source": [
    "plot_embeddings(matrix.copy(), 'tsne', 'cosine', c=preds_agl)"
   ]
  },
  {
   "cell_type": "code",
   "execution_count": 108,
   "metadata": {},
   "outputs": [
    {
     "data": {
      "text/plain": [
       "0.15144741509592674"
      ]
     },
     "execution_count": 108,
     "metadata": {},
     "output_type": "execute_result"
    }
   ],
   "source": [
    "silhouette_score(matrix, preds_agl, metric='cosine')"
   ]
  },
  {
   "cell_type": "markdown",
   "metadata": {},
   "source": [
    "**Sum up:** I think word2vec should be tried to get better results or at least we need to encode text in a better way to get clustered structure"
   ]
  },
  {
   "cell_type": "code",
   "execution_count": null,
   "metadata": {},
   "outputs": [],
   "source": []
  }
 ],
 "metadata": {
  "kernelspec": {
   "display_name": "Python 3",
   "language": "python",
   "name": "python3"
  },
  "language_info": {
   "codemirror_mode": {
    "name": "ipython",
    "version": 3
   },
   "file_extension": ".py",
   "mimetype": "text/x-python",
   "name": "python",
   "nbconvert_exporter": "python",
   "pygments_lexer": "ipython3",
   "version": "3.7.6"
  }
 },
 "nbformat": 4,
 "nbformat_minor": 4
}
